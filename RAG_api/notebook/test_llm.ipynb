{
 "cells": [
  {
   "cell_type": "code",
   "execution_count": 1,
   "metadata": {},
   "outputs": [
    {
     "name": "stdout",
     "output_type": "stream",
     "text": [
      "/home/denis/code/RAG_System/RAG_api\n"
     ]
    },
    {
     "name": "stderr",
     "output_type": "stream",
     "text": [
      "/home/denis/.local/lib/python3.10/site-packages/IPython/core/magics/osm.py:417: UserWarning: This is now an optional IPython functionality, setting dhist requires you to install the `pickleshare` library.\n",
      "  self.shell.db['dhist'] = compress_dhist(dhist)[-100:]\n"
     ]
    }
   ],
   "source": [
    "%cd .."
   ]
  },
  {
   "cell_type": "code",
   "execution_count": 2,
   "metadata": {},
   "outputs": [
    {
     "name": "stderr",
     "output_type": "stream",
     "text": [
      "/home/denis/.local/lib/python3.10/site-packages/sentence_transformers/cross_encoder/CrossEncoder.py:13: TqdmExperimentalWarning: Using `tqdm.autonotebook.tqdm` in notebook mode. Use `tqdm.tqdm` instead to force console mode (e.g. in jupyter console)\n",
      "  from tqdm.autonotebook import tqdm, trange\n",
      "2024-12-11 02:13:45.568365: E external/local_xla/xla/stream_executor/cuda/cuda_fft.cc:485] Unable to register cuFFT factory: Attempting to register factory for plugin cuFFT when one has already been registered\n",
      "2024-12-11 02:13:45.588239: E external/local_xla/xla/stream_executor/cuda/cuda_dnn.cc:8454] Unable to register cuDNN factory: Attempting to register factory for plugin cuDNN when one has already been registered\n",
      "2024-12-11 02:13:45.595372: E external/local_xla/xla/stream_executor/cuda/cuda_blas.cc:1452] Unable to register cuBLAS factory: Attempting to register factory for plugin cuBLAS when one has already been registered\n",
      "2024-12-11 02:13:45.625078: I tensorflow/core/platform/cpu_feature_guard.cc:210] This TensorFlow binary is optimized to use available CPU instructions in performance-critical operations.\n",
      "To enable the following instructions: AVX2 FMA, in other operations, rebuild TensorFlow with the appropriate compiler flags.\n",
      "2024-12-11 02:13:46.681671: W tensorflow/compiler/tf2tensorrt/utils/py_utils.cc:38] TF-TRT Warning: Could not find TensorRT\n"
     ]
    }
   ],
   "source": [
    "from model.components import LLM\n",
    "import asyncio"
   ]
  },
  {
   "cell_type": "code",
   "execution_count": null,
   "metadata": {},
   "outputs": [],
   "source": [
    "llm = LLM()"
   ]
  },
  {
   "cell_type": "code",
   "execution_count": 4,
   "metadata": {},
   "outputs": [],
   "source": [
    "context = [\"Асинхронное программирование и многопоточность — два различных подхода к выполнению задач параллельно.\"]\n",
    "question = \"Отличается ли асинхронное программирование от многопоточного и мультипроцессорного? Почему и чем?\"\n",
    "\n",
    "history = [\n",
    "    {\"question\": \"Что такое асинхронное программирование?\", \"answer\": \"Асинхронное программирование — это подход, при котором задачи выполняются без блокировки основной программы.\"},\n",
    "    {\"question\": \"Что такое многозадачность?\", \"answer\": \"Многозадачность — это способность операционной системы одновременно выполнять несколько задач.\"}\n",
    "]"
   ]
  },
  {
   "cell_type": "code",
   "execution_count": 5,
   "metadata": {},
   "outputs": [],
   "source": [
    "import json"
   ]
  },
  {
   "cell_type": "code",
   "execution_count": 6,
   "metadata": {},
   "outputs": [
    {
     "name": "stdout",
     "output_type": "stream",
     "text": [
      "Да, асинхронное программирование, многопоточность и мультипроцессорность отличаются. \n",
      "\n",
      "Асинхронное программирование означает, что программное обеспечение выполняет задачи без блокировки основного процесса. В отличие от многопоточности и мультипроцессорности, асинхронное программирование не делает задачи параллельными, но позволяет основной задаче продолжать работать, пока другие задачи ждут выполнения.\n",
      "\n",
      "Многопоточность подразумевает использование нескольких потоков в одном процессе для параллельного выполнения задач. Это позволяет программе использовать несколько ядер CPU одновременно.\n",
      "\n",
      "Мультипроцессорность означает использование нескольких процессов (программ) для параллельного выполнения задач. Это также позволяет использовать несколько ядер CPU.\n",
      "\n",
      "Таким образом, асинхронное программирование, многопоточность и мультипроцессорность предоставляют разные способы параллельного выполнения задач, но они различаются в использовании ресурсов и управлении задачами."
     ]
    }
   ],
   "source": [
    "for chunk in llm.ask(question, context, history):\n",
    "    if chunk:  # Проверяем, что часть не пуста\n",
    "        chunk_str = chunk.decode('utf-8')\n",
    "        if chunk_str.startswith(\"data: \"):  # Проверяем, начинается ли с \"data: \"\n",
    "            json_str = chunk_str[6:]  # Убираем \"data: \"\n",
    "            if json_str.strip() != \"[DONE]\":  # Игнорируем маркер завершения\n",
    "                try:\n",
    "                    data = json.loads(json_str)  # Парсим JSON\n",
    "                    content = data[\"choices\"][0][\"delta\"].get(\"content\", \"\")\n",
    "                    print(content, end='')  # Выводим текст\n",
    "                except json.JSONDecodeError:\n",
    "                    print(\"\\nОшибка декодирования JSON:\", json_str)"
   ]
  }
 ],
 "metadata": {
  "kernelspec": {
   "display_name": "Python 3",
   "language": "python",
   "name": "python3"
  },
  "language_info": {
   "codemirror_mode": {
    "name": "ipython",
    "version": 3
   },
   "file_extension": ".py",
   "mimetype": "text/x-python",
   "name": "python",
   "nbconvert_exporter": "python",
   "pygments_lexer": "ipython3",
   "version": "3.10.12"
  }
 },
 "nbformat": 4,
 "nbformat_minor": 2
}

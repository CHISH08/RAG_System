{
 "cells": [
  {
   "cell_type": "code",
   "execution_count": 1,
   "metadata": {},
   "outputs": [
    {
     "name": "stdout",
     "output_type": "stream",
     "text": [
      "/home/denis/code/RAG_System/RAG_api\n"
     ]
    },
    {
     "name": "stderr",
     "output_type": "stream",
     "text": [
      "/home/denis/.local/lib/python3.10/site-packages/IPython/core/magics/osm.py:417: UserWarning: This is now an optional IPython functionality, setting dhist requires you to install the `pickleshare` library.\n",
      "  self.shell.db['dhist'] = compress_dhist(dhist)[-100:]\n"
     ]
    }
   ],
   "source": [
    "%cd .."
   ]
  },
  {
   "cell_type": "code",
   "execution_count": 2,
   "metadata": {},
   "outputs": [
    {
     "name": "stderr",
     "output_type": "stream",
     "text": [
      "/home/denis/.local/lib/python3.10/site-packages/sentence_transformers/cross_encoder/CrossEncoder.py:13: TqdmExperimentalWarning: Using `tqdm.autonotebook.tqdm` in notebook mode. Use `tqdm.tqdm` instead to force console mode (e.g. in jupyter console)\n",
      "  from tqdm.autonotebook import tqdm, trange\n",
      "2024-12-11 02:39:46.240643: E external/local_xla/xla/stream_executor/cuda/cuda_fft.cc:485] Unable to register cuFFT factory: Attempting to register factory for plugin cuFFT when one has already been registered\n",
      "2024-12-11 02:39:46.255819: E external/local_xla/xla/stream_executor/cuda/cuda_dnn.cc:8454] Unable to register cuDNN factory: Attempting to register factory for plugin cuDNN when one has already been registered\n",
      "2024-12-11 02:39:46.259954: E external/local_xla/xla/stream_executor/cuda/cuda_blas.cc:1452] Unable to register cuBLAS factory: Attempting to register factory for plugin cuBLAS when one has already been registered\n",
      "2024-12-11 02:39:46.272328: I tensorflow/core/platform/cpu_feature_guard.cc:210] This TensorFlow binary is optimized to use available CPU instructions in performance-critical operations.\n",
      "To enable the following instructions: AVX2 FMA, in other operations, rebuild TensorFlow with the appropriate compiler flags.\n",
      "2024-12-11 02:39:47.225518: W tensorflow/compiler/tf2tensorrt/utils/py_utils.cc:38] TF-TRT Warning: Could not find TensorRT\n"
     ]
    }
   ],
   "source": [
    "from model import QAModel"
   ]
  },
  {
   "cell_type": "code",
   "execution_count": 3,
   "metadata": {},
   "outputs": [
    {
     "name": "stdout",
     "output_type": "stream",
     "text": [
      "Подключение к Qdrant установлено!\n",
      "title='qdrant - vector search engine' version='1.12.5' commit='27260abda78509e1a3e8822c8d8819c4fe189f5b'\n"
     ]
    }
   ],
   "source": [
    "model = QAModel()"
   ]
  },
  {
   "cell_type": "code",
   "execution_count": 4,
   "metadata": {},
   "outputs": [],
   "source": [
    "model.vbd.update_collection()"
   ]
  },
  {
   "cell_type": "code",
   "execution_count": 5,
   "metadata": {},
   "outputs": [],
   "source": [
    "import json"
   ]
  },
  {
   "cell_type": "code",
   "execution_count": null,
   "metadata": {},
   "outputs": [
    {
     "data": {
      "text/plain": [
       "<Task pending name='Task-5' coro=<process_model() running at /tmp/ipykernel_70278/1923731360.py:4>>"
      ]
     },
     "execution_count": 9,
     "metadata": {},
     "output_type": "execute_result"
    },
    {
     "name": "stderr",
     "output_type": "stream",
     "text": [
      "Загрузка данных: 100%|██████████| 1/1 [00:19<00:00, 19.85s/it]\n"
     ]
    },
    {
     "name": "stdout",
     "output_type": "stream",
     "text": [
      "Данные успешно добавлены.\n"
     ]
    }
   ],
   "source": [
    "for chunk in model(\"Как программировать?\", threshold=0.5):\n",
    "    if chunk:  # Проверяем, что часть не пуста\n",
    "        chunk_str = chunk.decode('utf-8')\n",
    "        if chunk_str.startswith(\"data: \"):  # Проверяем, начинается ли с \"data: \"\n",
    "            json_str = chunk_str[6:]  # Убираем \"data: \"\n",
    "            if json_str.strip() != \"[DONE]\":  # Игнорируем маркер завершения\n",
    "                try:\n",
    "                    data = json.loads(json_str)  # Парсим JSON\n",
    "                    content = data[\"choices\"][0][\"delta\"].get(\"content\", \"\")\n",
    "                    print(content, end='')  # Выводим текст\n",
    "                except json.JSONDecodeError:\n",
    "                    print(\"\\nОшибка декодирования JSON:\", json_str)"
   ]
  },
  {
   "cell_type": "code",
   "execution_count": 6,
   "metadata": {},
   "outputs": [
    {
     "name": "stdout",
     "output_type": "stream",
     "text": [
      "Существует множество языков программирования, и их можно классифицировать по различным критериям. Вот некоторые из наиболее популярных:\n",
      "\n",
      "1. **Ориентированные на процедуры**: C, Pascal, Fortran.\n",
      "2. **Объектно-ориентированные**: Java, C++, Python.\n",
      "3. **Функциональные**: Lisp, Haskell, Scheme.\n",
      "4. **Скриптовые**: JavaScript, Ruby, PHP.\n",
      "5. **Мобильное разработки**: Swift (для iOS), Kotlin (для Android).\n",
      "6. **Веб-разработка**: HTML/CSS, TypeScript.\n",
      "7. **Базы данных**: SQL, PL/SQL.\n",
      "8. **Системное программирование**: C#, Go.\n",
      "\n",
      "Каждый из этих языков имеет свои особенности и области применения."
     ]
    }
   ],
   "source": [
    "async for char in model(\"Какие есть языки программирования?\", threshold=0.7):\n",
    "    print(char, end='', flush=True)"
   ]
  },
  {
   "cell_type": "code",
   "execution_count": 7,
   "metadata": {},
   "outputs": [
    {
     "name": "stdout",
     "output_type": "stream",
     "text": [
      "Вы можете приобрести сосиску в продуктовом магазине, в спортивной барне или на рынке. Также сосиски можно найти в интернет-магазинах."
     ]
    }
   ],
   "source": [
    "async for char in model(\"Где приобрести сосиску?\", threshold=0.7):\n",
    "    print(char, end='', flush=True)"
   ]
  },
  {
   "cell_type": "code",
   "execution_count": 8,
   "metadata": {},
   "outputs": [
    {
     "name": "stdout",
     "output_type": "stream",
     "text": [
      "Чтобы купить сосиску, вы можете:\n",
      "\n",
      "1. Посетить магазин сельскохудожественных товаров или мясной консервной фабрики.\n",
      "2. Пройти на онлайн-платформы, такие как Wildberries, Ozon или AliExpress.\n",
      "3. Использовать приложения для покупок, такие как Yandex.Shop, DeliveryClub или Спидмаркет.\n",
      "4. Проверить ассортимент в местных магазинах продуктовой сети, таких как Лента, Ашан или Магнит.\n",
      "\n",
      "Помните о проверке даты годности и потребительских сертификатов перед покупкой."
     ]
    }
   ],
   "source": [
    "async for char in model(\"Как купить сосиску?\", threshold=0.7):\n",
    "    print(char, end='', flush=True)"
   ]
  },
  {
   "cell_type": "code",
   "execution_count": 9,
   "metadata": {},
   "outputs": [
    {
     "name": "stdout",
     "output_type": "stream",
     "text": [
      "Чтобы выбрать качественную сосиску, можно обратить внимание на следующие параметры:\n",
      "\n",
      "1. **Марка и производитель**: Выберите бренд, который имеет хорошую репутацию и известен качественным продуктом.\n",
      "\n",
      "2. **Состав ингредиентов**: Проверьте список ингредиентов. Качественные сосиски обычно содержат основные компоненты: мясо (обычно свинина), соус, специи и иногда добавляют фрукты или овощи.\n",
      "\n",
      "3. **Тип мяса**: Сосиски из свинины обычно считаются более качественными по сравнению с сосисками из баранины или телятина.\n",
      "\n",
      "4. **Марка внутри**: Если сосиски имеют марку внутри, это может указывать на высокое качество и специальную обработку мяса.\n",
      "\n",
      "5. **Цвет и запах**: Качественные сосиски обычно имеют четкий и приятный запах. Цвет мяса должен быть естественным для соответствующего вида мяса.\n",
      "\n",
      "6. **Марка на упаковке**: Наличие маркировки \"Произведено в Германии\", \"Франция\" или другой известной стране с высоким качеством мясопродуктов может говорить о хорошей качестве.\n",
      "\n",
      "7. **Цена**: Качественные сосиски обычно дороже, так как содержат больше ингредиентов и лучше обработаны.\n",
      "\n",
      "8. **Срок годности**: Проверьте дату производства и срок годности, чтобы убедиться, что продукт свежий.\n",
      "\n",
      "9. **Отзывы покупателей**: Чтение отзывов на форумах или в социальных сетях может помочь оценить уровень доверия к бренду и качеству продукции.\n",
      "\n",
      "Помните, что качество сосиски также зависит от того, как она готовится - правильное приготовление и подача могут значительно повлиять на вкус и текстуру продукта."
     ]
    }
   ],
   "source": [
    "async for char in model(\"Как выбрать качественную сосиску?\", threshold=0.7):\n",
    "    print(char, end='', flush=True)"
   ]
  },
  {
   "cell_type": "code",
   "execution_count": 10,
   "metadata": {},
   "outputs": [
    {
     "name": "stdout",
     "output_type": "stream",
     "text": [
      "Python — это высокоуровневый, интерпретируемый язык программирования, который известен своей читаемостью и простотой. Вот некоторые ключевые особенности Python:\n",
      "\n",
      "1. **Чтение и понимание кода**: Python имеет очень чистую и понятную синтаксис, что делает его идеальным выбором для новичков в программировании.\n",
      "\n",
      "2. **Интерпретируемый язык**: Код на Python выполняется построчно, что позволяет быстрее отлаживать ошибки.\n",
      "\n",
      "3. **Динамическая типизация**: В Python не нужно явно объявлять типы переменных. Тип данных определяется автоматически во время выполнения программы.\n",
      "\n",
      "4. **Большая стандартная библиотека**: Python включает огромную стандартную библиотеку, которая предоставляет множество функций для разработки различных приложений.\n",
      "\n",
      "5. **Поддержка многопоточности и многозадачности**: Python поддерживает многопоточность и можно легко использовать его для создания параллельных программ.\n",
      "\n",
      "6. **Совместимость с различными платформами**: Python работает на Windows, macOS и Linux, что делает его универсальным языком.\n",
      "\n",
      "7. **Одноплатформенность**: Путем использования интерпретатора Python можно писать код для разных операционных систем без изменения исходного кода.\n",
      "\n",
      "8. **Встроенная поддержка объектно-ориентированного программирования**: Python поддерживает все основные принципы объектно-ориентированной парадигмы.\n",
      "\n",
      "9. **Совместимость с различными стилями программирования**: Python подходит как для функционального, так и для императивного стилей программирования.\n",
      "\n",
      "10. **Простота в использовании библиотек и фреймворков**: Существует множество популярных библиотек (например, NumPy, Pandas, Django) и фреймворков (например, Flask, Django), которые упрощают разработку приложений на Python.\n",
      "\n",
      "Эти особенности делают Python одним из самых популярных языков программирования в мире."
     ]
    }
   ],
   "source": [
    "async for char in model(\"Особенности языка программирования python\", threshold=0.7):\n",
    "    print(char, end='', flush=True)"
   ]
  }
 ],
 "metadata": {
  "kernelspec": {
   "display_name": "Python 3",
   "language": "python",
   "name": "python3"
  },
  "language_info": {
   "codemirror_mode": {
    "name": "ipython",
    "version": 3
   },
   "file_extension": ".py",
   "mimetype": "text/x-python",
   "name": "python",
   "nbconvert_exporter": "python",
   "pygments_lexer": "ipython3",
   "version": "3.10.12"
  }
 },
 "nbformat": 4,
 "nbformat_minor": 2
}

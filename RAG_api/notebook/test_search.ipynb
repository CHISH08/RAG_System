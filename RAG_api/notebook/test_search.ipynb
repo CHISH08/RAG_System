{
 "cells": [
  {
   "cell_type": "code",
   "execution_count": 1,
   "metadata": {},
   "outputs": [
    {
     "name": "stdout",
     "output_type": "stream",
     "text": [
      "/home/denis/code/RAG_System\n"
     ]
    },
    {
     "name": "stderr",
     "output_type": "stream",
     "text": [
      "/home/denis/.local/lib/python3.10/site-packages/IPython/core/magics/osm.py:417: UserWarning: This is now an optional IPython functionality, setting dhist requires you to install the `pickleshare` library.\n",
      "  self.shell.db['dhist'] = compress_dhist(dhist)[-100:]\n"
     ]
    }
   ],
   "source": [
    "%cd .."
   ]
  },
  {
   "cell_type": "code",
   "execution_count": 2,
   "metadata": {},
   "outputs": [
    {
     "name": "stderr",
     "output_type": "stream",
     "text": [
      "2024-12-03 17:40:53.941671: E external/local_xla/xla/stream_executor/cuda/cuda_fft.cc:485] Unable to register cuFFT factory: Attempting to register factory for plugin cuFFT when one has already been registered\n",
      "2024-12-03 17:40:53.954565: E external/local_xla/xla/stream_executor/cuda/cuda_dnn.cc:8454] Unable to register cuDNN factory: Attempting to register factory for plugin cuDNN when one has already been registered\n",
      "2024-12-03 17:40:53.958280: E external/local_xla/xla/stream_executor/cuda/cuda_blas.cc:1452] Unable to register cuBLAS factory: Attempting to register factory for plugin cuBLAS when one has already been registered\n",
      "2024-12-03 17:40:53.968865: I tensorflow/core/platform/cpu_feature_guard.cc:210] This TensorFlow binary is optimized to use available CPU instructions in performance-critical operations.\n",
      "To enable the following instructions: AVX2 FMA, in other operations, rebuild TensorFlow with the appropriate compiler flags.\n",
      "2024-12-03 17:40:54.830660: W tensorflow/compiler/tf2tensorrt/utils/py_utils.cc:38] TF-TRT Warning: Could not find TensorRT\n"
     ]
    }
   ],
   "source": [
    "from model.components import Searcher"
   ]
  },
  {
   "cell_type": "code",
   "execution_count": 3,
   "metadata": {},
   "outputs": [],
   "source": [
    "searcher = Searcher()"
   ]
  },
  {
   "cell_type": "code",
   "execution_count": 4,
   "metadata": {},
   "outputs": [
    {
     "data": {
      "text/plain": [
       "[{'link': 'https://www.youtube.com/watch?v=cot8q5pftm8',\n",
       "  'title': '- YouTube',\n",
       "  'text': ''},\n",
       " {'link': 'http://www.dialektika.com/books/978-5-8459-1593-1.html',\n",
       "  'title': 'Программирование для чайников. Как научиться программировать. 4-',\n",
       "  'text': 'В книге «Программирование для чайников» (как научиться программировать?) в популярной форме описываются базовые принципы программирования на разных языках и в разных операционных системах. Обсуждаются типы переменных, массивы, операторы цикла, компиляторы, подпрограммы, инструменты отладки, вопросы создания графических интерфейсов и программирования для Интернета. Изучение материала облегчается многочисленными примерами простых программ. Для работы с книгой достаточно уметь выполнять базовые операции (создание файлов и каталогов, копирование, перемещение, запуск программы) в любой из следующих операционных систем: Windows, Mac OS или Linux.\\n\\nКнига предназначена для начинающих программистов. Расскажи про книгу своим друзьям и коллегам:\\n\\n\\n\\n\\n\\nТвитнуть\\n\\n\\n\\n\\n\\nНравится'},\n",
       " {'link': 'https://trends.rbc.ru/trends/education/5d6bdbd99a79479d59272f35',\n",
       "  'title': 'Программирование с нуля: с чего начать и как выучить',\n",
       "  'text': '3\\n\\nЕвгений Кучерявый, автор блога онлайн-университета SkillBox, рассказал, чем занимаются веб-разработчики и какие языки им непременно нужно знать.\\n\\nFrontend-программист\\n\\nТакой разработчик по определению стоит на «переднем крае» и отвечает за визуальную составляющую сайта: то, каким его видит посетитель. Frontend-разработчики следят за тем, чтобы все графические элементы исправно работали, контент отображался на всех устройствах, шрифты не «ползли», а картинки не загружались слишком долго.\\n\\n1. Обучение HTML\\n\\nВ первую очередь начинающий frontend-разработчик должен освоить HTML — язык гипертекстовой разметки. Это базовый инструмент, который позволяет вынести на страницу все основные элементы, будь то фотографии, таблицы или текст.\\n\\n2. Обучение CSS\\n\\nВнешне написанная на HTML интернет-страница будет напоминать простейший текстовый документ. Чтобы «оживить» его, используется каскадная таблица стилей или CSS. Она меняет не структуру страницы, а ее внешний вид: шрифты, расположение элементов, тени и цвета. Другими словами, если HTML используется для описания логической структуры страницы, язык CSS отвечает за графические элементы и прописывается в отдельном файле.\\n\\n3. Обучение JavaScript\\n\\nНаконец, чтобы элементы веб-сайта могли перемещаться и реагировать на действия пользователя, разработчик прописывает код на языке JavaScript. Он заметно сложнее первых двух, но результат стоит того: от скриптов зависит появление всплывающих окон или же перетаскивание элементов на странице (например, сортировка фото в соцсети). В отличие от CSS, код JavaScript встраивается в структуру HTML, поскольку влияет не на внешний вид элементов, а на их поведение на странице.\\n\\nВчерашняя техника уже завтра: могут ли устареть языки программирования\\n\\nBackend-программист\\n\\nКрасивая оболочка сайта не имеет смысла без начинки: видеоролики, гиперссылки и картинки должны быть связаны с сервером, базой данных, с другими интернет-сайтами. Программно-аппаратную работу сервиса берут на себя backend-разработчики. Они же отвечают за информационную безопасность (защиту от хакеров) и следят за нагрузкой на сервер (чтобы страница не «висла» из-за наплыва посетителей).\\n\\n1. Обучение PHP\\n\\nБазовый инструмент backend-разработчика — язык программирования PHP. Он нужен, чтобы связать видимую пользователю страницу с сервером, где хранятся какие-либо данные. Например, чтобы не выкладывать на веб-сайт по одной фотографии при помощи HTML, можно запустить скрипт, автоматически подгружающий туда условную галерею, лежащую на сервере. Язык PHP настолько сильно упрощает работу по созданию сайта, что изучать его SkillBox рекомендует и frontend-разработчикам.\\n\\n2. Обучение SQL\\n\\nАббревиатура SQL расшифровывается как «структурированный язык запросов». В отличие с PHP, который нужен для связи сайта с сервером, языки SQL позволяют управлять уже самими базами данных. Сейчас существует множество подобных языков, самые распространенные из которых — это MySQL, MSSQL, PostgreSQL и прочие.\\n\\nРазработчики «полного цикла» в совершенстве владеют языками, необходимыми как для frontend-, так и для backend-программирования. Они являются универсальными специалистами, хотя, очевидно, глубина их погруженности в какую-то конкретно область веб-разработки уступает осведомленности узких специалистов.'}]"
      ]
     },
     "execution_count": 4,
     "metadata": {},
     "output_type": "execute_result"
    }
   ],
   "source": [
    "searcher.search_context(\"Программирование для чайников\", limit=3)"
   ]
  },
  {
   "cell_type": "code",
   "execution_count": 5,
   "metadata": {},
   "outputs": [
    {
     "name": "stdout",
     "output_type": "stream",
     "text": [
      "{'link': 'https://github.com/CHISH08/RAG_System', 'title': 'CHISH08/RAG_System: implementation of the RAG system', 'text': 'To see all available qualifiers, see our documentation .\\n\\nSaved searches Use saved searches to filter your results more quickly\\n\\nWe read every piece of feedback, and take your input very seriously.\\n\\nYou signed in with another tab or window. Reload to refresh your session.\\n\\nYou signed out in another tab or window. Reload to refresh your session.\\n\\nYou switched accounts on another tab or window. Reload to refresh your session.\\n\\nDismiss alert'}\n"
     ]
    }
   ],
   "source": [
    "print(searcher.get_links_data(\"https://github.com/CHISH08/RAG_System\"))"
   ]
  }
 ],
 "metadata": {
  "kernelspec": {
   "display_name": "Python 3",
   "language": "python",
   "name": "python3"
  },
  "language_info": {
   "codemirror_mode": {
    "name": "ipython",
    "version": 3
   },
   "file_extension": ".py",
   "mimetype": "text/x-python",
   "name": "python",
   "nbconvert_exporter": "python",
   "pygments_lexer": "ipython3",
   "version": "3.10.12"
  }
 },
 "nbformat": 4,
 "nbformat_minor": 2
}
